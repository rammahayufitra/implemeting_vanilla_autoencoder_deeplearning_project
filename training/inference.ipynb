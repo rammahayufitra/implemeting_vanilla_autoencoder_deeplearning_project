{
 "cells": [
  {
   "cell_type": "code",
   "execution_count": null,
   "metadata": {},
   "outputs": [],
   "source": [
    "import cv2\n",
    "import torch\n",
    "from torchvision import transforms\n",
    "from PIL import Image, ImageDraw\n",
    "import numpy as np\n",
    "from torch_snippets import *\n",
    "from torchvision.datasets import MNIST  \n",
    "device = 'cuda:0'\n",
    "\n",
    "\n",
    "# model = AutoEncoder(3).to(device)\n",
    "model = torch.load('../public/models/model.pt', map_location=device)\n",
    "checkpoint = torch.load('../public/weights/weights.pt', map_location=device)\n",
    "model.load_state_dict(checkpoint)\n",
    "model.to(device)\n",
    "model.eval()\n",
    "\n",
    "transform = transforms.Compose([\n",
    "    transforms.ToTensor(), \n",
    "    transforms.Normalize([0.5], [0.5]),\n",
    "    transforms.Lambda(lambda x: x.to(device))\n",
    "])"
   ]
  }
 ],
 "metadata": {
  "language_info": {
   "name": "python"
  },
  "orig_nbformat": 4
 },
 "nbformat": 4,
 "nbformat_minor": 2
}
